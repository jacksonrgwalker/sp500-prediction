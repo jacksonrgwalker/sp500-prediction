{
 "cells": [
  {
   "cell_type": "code",
   "execution_count": 24,
   "metadata": {
    "notebookRunGroups": {
     "groupValue": ""
    }
   },
   "outputs": [],
   "source": [
    "import pandas as pd\n",
    "from pathlib import Path\n",
    "\n",
    "# Grab table from Wikipedia\n",
    "url = \"https://en.wikipedia.org/wiki/List_of_S%26P_500_companies\"\n",
    "symbols = pd.read_html(url)[0]\n",
    "symbols.columns = symbols.columns.str.lower().str.replace(\" \", \"_\", regex=False)\n",
    "symbols['symbol'] = symbols['symbol'].str.strip().str.replace(\".\", \"-\", regex=False)\n",
    "\n",
    "# symbols_save_path = Path(\"data/symbols.parquet\")\n",
    "# symbols.to_parquet(symbols_save_path, index=False)"
   ]
  }
 ],
 "metadata": {
  "kernelspec": {
   "display_name": "sp500-prediction-env",
   "language": "python",
   "name": "python3"
  },
  "language_info": {
   "codemirror_mode": {
    "name": "ipython",
    "version": 3
   },
   "file_extension": ".py",
   "mimetype": "text/x-python",
   "name": "python",
   "nbconvert_exporter": "python",
   "pygments_lexer": "ipython3",
   "version": "3.11.5"
  },
  "orig_nbformat": 4
 },
 "nbformat": 4,
 "nbformat_minor": 2
}
